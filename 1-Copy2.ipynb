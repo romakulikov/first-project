{
 "cells": [
  {
   "cell_type": "markdown",
   "id": "bf27ee9d",
   "metadata": {},
   "source": [
    "Привет, меня зовут Артем. Сегодня я проверю твой проект.\n",
    "<br> Дальнейшее общение будет происходить на \"ты\" если это не вызывает никаких проблем.\n",
    "<br> Желательно реагировать на каждый мой комментарий ('исправил', 'не понятно как исправить ошибку', ...)\n",
    "<br> Пожалуйста, не удаляй комментарии ревьюера, так как они повышают качество повторного ревью.\n",
    "\n",
    "Комментарии будут в <font color='green'>зеленой</font>, <font color='blue'>синей</font> или <font color='red'>красной</font> рамках:\n",
    "\n",
    "<div class=\"alert alert-block alert-success\">\n",
    "<b>Успех:</b> Если все сделано отлично\n",
    "</div>\n",
    "\n",
    "<div class=\"alert alert-block alert-info\">\n",
    "<b>Совет: </b> Если можно немного улучшить\n",
    "</div>\n",
    "\n",
    "<div class=\"alert alert-block alert-danger\">\n",
    "<b>Ошибка:</b> Если требуются исправления. Работа не может быть принята с красными комментариями.\n",
    "</div>\n",
    "\n",
    "-------------------\n",
    "\n",
    "Будет очень хорошо, если ты будешь помечать свои действия следующим образом:\n",
    "<div class=\"alert alert-block alert-warning\">\n",
    "<b>Комментарий студента:</b> ...\n",
    "</div>\n",
    "\n",
    "<div class=\"alert alert-block alert-warning\">\n",
    "<b>Изменения:</b> Были внесены следующие изменения ...\n",
    "</div>\n",
    "\n",
    "### <font color='orange'>Общее впечатление</font>\n",
    "* Большое спасибо за проделанную работу. Видно, что приложено много усилий.\n",
    "* Выводы и рассуждения получились содержательными, их было интересно читать.\n",
    "* Радует, что тебе удалось разобраться с техникой бутстрапа.\n",
    "* Отлично, что доверительный интервал и риск убытков посчитаны верно.\n",
    "* Я оставил несколько советов, надеюсь, что они будут учтены в будущих проектах.\n",
    "* Редко, кто сдает эту работу с первого раза, молодец!\n",
    "* Проект может быть зачтен, но я его отправлю назад, чтобы у тебя была возможность задать вопросы и внести правки, при желании. Однако, ты можешь просто вернуть проект в таком же виде и я его зачту."
   ]
  },
  {
   "cell_type": "markdown",
   "id": "95233026",
   "metadata": {},
   "source": [
    "<div class=\"alert alert-block alert-warning\">\n",
    "<b>Комментарий студента:</b> Привет, Артем! \n",
    "    Спасибо за твое ревью и такую оценку моего труда! Чуть ниже - в контексте - я задал пару вопросов. Буду благодарен твоим ответам.\n",
    "</div>"
   ]
  },
  {
   "cell_type": "markdown",
   "id": "4f0bc7bc",
   "metadata": {},
   "source": [
    "### <font color='orange'>Общее впечатление (ревью 2)</font>\n",
    "* После исправлений проект улучшился и теперь он может быть зачтен.\n",
    "* Для удобства все новые комментарии обозначены фразой \"ревью 2\".\n",
    "* Удачи в дальнейшем обучении и следующих работах!"
   ]
  },
  {
   "cell_type": "markdown",
   "id": "01327079",
   "metadata": {},
   "source": [
    "# Исследование регионов для разработки нефтяных скважин "
   ]
  },
  {
   "cell_type": "markdown",
   "id": "2b5b44b4",
   "metadata": {},
   "source": [
    "Целью данного исследование для добывающей компании «ГлавРосГосНефть» является выбор наиболее прибыльного региона для разработки нефтяных скважин из трех представленных. \n",
    "\n",
    "В нашем распоряжении имеется три датасета с данными геологоразведки разделенные по регионам, где отражены признаки, характеризующие каждую исследованную скважину. Целевым признаком в исследовании выступает показатель объема запасов в скважине, выраженный в тыс. баррелей.\n",
    "\n",
    "Компанией планируется разработка двухсот скважит в рамках одного региона.\n",
    "\n",
    "Создадим модель, прогнозирующую запасы сырья в скважине, выберем скважины с наибольшие показателями и рассчитаем прибыльность региона."
   ]
  },
  {
   "cell_type": "markdown",
   "id": "f8917d86",
   "metadata": {},
   "source": [
    "## Подготовка данных для прогнозирующей модели"
   ]
  },
  {
   "cell_type": "markdown",
   "id": "86386bef",
   "metadata": {},
   "source": [
    "Для работы нам потребуются некоторые инструменты и модули, сделаем импорт."
   ]
  },
  {
   "cell_type": "code",
   "execution_count": 46,
   "id": "60575469",
   "metadata": {},
   "outputs": [],
   "source": [
    "import pandas as pd\n",
    "import matplotlib.pyplot as plt\n",
    "import numpy as np\n",
    "\n",
    "from sklearn.model_selection import train_test_split\n",
    "from sklearn.linear_model import LinearRegression\n",
    "from sklearn.metrics import mean_squared_error\n",
    "from sklearn.preprocessing import StandardScaler\n",
    "from numpy.random import RandomState"
   ]
  },
  {
   "cell_type": "markdown",
   "id": "374f7beb",
   "metadata": {},
   "source": [
    "<div class=\"alert alert-block alert-success\">\n",
    "<b>Успех:</b> Отлично, что все импорты собраны в первой ячейке ноутбука! Если у того, кто будет запускать твой ноутбук будут отсутствовать некоторые библиотеки, то он это увидит сразу, а не в процессе!\n",
    "</div>"
   ]
  },
  {
   "cell_type": "markdown",
   "id": "08652dc2",
   "metadata": {},
   "source": [
    "Загрузим данные в переменные по каждому региону в переменные **region_1**, **region_2**, **region_3**."
   ]
  },
  {
   "cell_type": "code",
   "execution_count": 2,
   "id": "5f202ab5",
   "metadata": {},
   "outputs": [],
   "source": [
    "try:\n",
    "    region_1 = pd.read_csv('C://Users//roma_//OneDrive//Рабочий стол//DATA//Проект ГлавРосГосНефть//geo_data_0.csv')\n",
    "    region_2 = pd.read_csv('C://Users//roma_//OneDrive//Рабочий стол//DATA//Проект ГлавРосГосНефть//geo_data_1.csv')\n",
    "    region_3 = pd.read_csv('C://Users//roma_//OneDrive//Рабочий стол//DATA//Проект ГлавРосГосНефть//geo_data_2.csv')\n",
    "except:\n",
    "    region_1 = pd.read_csv('/datasets/geo_data_0.csv')\n",
    "    region_2 = pd.read_csv('/datasets/geo_data_1.csv')\n",
    "    region_3 = pd.read_csv('/datasets/geo_data_2.csv')"
   ]
  },
  {
   "cell_type": "markdown",
   "id": "2438ff95",
   "metadata": {},
   "source": [
    "Познакомимся ближе с данными, убедимся, что загрузка прошла успешно."
   ]
  },
  {
   "cell_type": "code",
   "execution_count": 3,
   "id": "f0a15dd2",
   "metadata": {},
   "outputs": [
    {
     "data": {
      "text/html": [
       "<div>\n",
       "<style scoped>\n",
       "    .dataframe tbody tr th:only-of-type {\n",
       "        vertical-align: middle;\n",
       "    }\n",
       "\n",
       "    .dataframe tbody tr th {\n",
       "        vertical-align: top;\n",
       "    }\n",
       "\n",
       "    .dataframe thead th {\n",
       "        text-align: right;\n",
       "    }\n",
       "</style>\n",
       "<table border=\"1\" class=\"dataframe\">\n",
       "  <thead>\n",
       "    <tr style=\"text-align: right;\">\n",
       "      <th></th>\n",
       "      <th>id</th>\n",
       "      <th>f0</th>\n",
       "      <th>f1</th>\n",
       "      <th>f2</th>\n",
       "      <th>product</th>\n",
       "    </tr>\n",
       "  </thead>\n",
       "  <tbody>\n",
       "    <tr>\n",
       "      <th>0</th>\n",
       "      <td>txEyH</td>\n",
       "      <td>0.705745</td>\n",
       "      <td>-0.497823</td>\n",
       "      <td>1.221170</td>\n",
       "      <td>105.280062</td>\n",
       "    </tr>\n",
       "    <tr>\n",
       "      <th>1</th>\n",
       "      <td>2acmU</td>\n",
       "      <td>1.334711</td>\n",
       "      <td>-0.340164</td>\n",
       "      <td>4.365080</td>\n",
       "      <td>73.037750</td>\n",
       "    </tr>\n",
       "    <tr>\n",
       "      <th>2</th>\n",
       "      <td>409Wp</td>\n",
       "      <td>1.022732</td>\n",
       "      <td>0.151990</td>\n",
       "      <td>1.419926</td>\n",
       "      <td>85.265647</td>\n",
       "    </tr>\n",
       "    <tr>\n",
       "      <th>3</th>\n",
       "      <td>iJLyR</td>\n",
       "      <td>-0.032172</td>\n",
       "      <td>0.139033</td>\n",
       "      <td>2.978566</td>\n",
       "      <td>168.620776</td>\n",
       "    </tr>\n",
       "    <tr>\n",
       "      <th>4</th>\n",
       "      <td>Xdl7t</td>\n",
       "      <td>1.988431</td>\n",
       "      <td>0.155413</td>\n",
       "      <td>4.751769</td>\n",
       "      <td>154.036647</td>\n",
       "    </tr>\n",
       "  </tbody>\n",
       "</table>\n",
       "</div>"
      ],
      "text/plain": [
       "      id        f0        f1        f2     product\n",
       "0  txEyH  0.705745 -0.497823  1.221170  105.280062\n",
       "1  2acmU  1.334711 -0.340164  4.365080   73.037750\n",
       "2  409Wp  1.022732  0.151990  1.419926   85.265647\n",
       "3  iJLyR -0.032172  0.139033  2.978566  168.620776\n",
       "4  Xdl7t  1.988431  0.155413  4.751769  154.036647"
      ]
     },
     "execution_count": 3,
     "metadata": {},
     "output_type": "execute_result"
    }
   ],
   "source": [
    "region_1.head()"
   ]
  },
  {
   "cell_type": "code",
   "execution_count": 4,
   "id": "eb7342d1",
   "metadata": {},
   "outputs": [
    {
     "data": {
      "text/html": [
       "<div>\n",
       "<style scoped>\n",
       "    .dataframe tbody tr th:only-of-type {\n",
       "        vertical-align: middle;\n",
       "    }\n",
       "\n",
       "    .dataframe tbody tr th {\n",
       "        vertical-align: top;\n",
       "    }\n",
       "\n",
       "    .dataframe thead th {\n",
       "        text-align: right;\n",
       "    }\n",
       "</style>\n",
       "<table border=\"1\" class=\"dataframe\">\n",
       "  <thead>\n",
       "    <tr style=\"text-align: right;\">\n",
       "      <th></th>\n",
       "      <th>id</th>\n",
       "      <th>f0</th>\n",
       "      <th>f1</th>\n",
       "      <th>f2</th>\n",
       "      <th>product</th>\n",
       "    </tr>\n",
       "  </thead>\n",
       "  <tbody>\n",
       "    <tr>\n",
       "      <th>0</th>\n",
       "      <td>kBEdx</td>\n",
       "      <td>-15.001348</td>\n",
       "      <td>-8.276000</td>\n",
       "      <td>-0.005876</td>\n",
       "      <td>3.179103</td>\n",
       "    </tr>\n",
       "    <tr>\n",
       "      <th>1</th>\n",
       "      <td>62mP7</td>\n",
       "      <td>14.272088</td>\n",
       "      <td>-3.475083</td>\n",
       "      <td>0.999183</td>\n",
       "      <td>26.953261</td>\n",
       "    </tr>\n",
       "    <tr>\n",
       "      <th>2</th>\n",
       "      <td>vyE1P</td>\n",
       "      <td>6.263187</td>\n",
       "      <td>-5.948386</td>\n",
       "      <td>5.001160</td>\n",
       "      <td>134.766305</td>\n",
       "    </tr>\n",
       "    <tr>\n",
       "      <th>3</th>\n",
       "      <td>KcrkZ</td>\n",
       "      <td>-13.081196</td>\n",
       "      <td>-11.506057</td>\n",
       "      <td>4.999415</td>\n",
       "      <td>137.945408</td>\n",
       "    </tr>\n",
       "    <tr>\n",
       "      <th>4</th>\n",
       "      <td>AHL4O</td>\n",
       "      <td>12.702195</td>\n",
       "      <td>-8.147433</td>\n",
       "      <td>5.004363</td>\n",
       "      <td>134.766305</td>\n",
       "    </tr>\n",
       "  </tbody>\n",
       "</table>\n",
       "</div>"
      ],
      "text/plain": [
       "      id         f0         f1        f2     product\n",
       "0  kBEdx -15.001348  -8.276000 -0.005876    3.179103\n",
       "1  62mP7  14.272088  -3.475083  0.999183   26.953261\n",
       "2  vyE1P   6.263187  -5.948386  5.001160  134.766305\n",
       "3  KcrkZ -13.081196 -11.506057  4.999415  137.945408\n",
       "4  AHL4O  12.702195  -8.147433  5.004363  134.766305"
      ]
     },
     "execution_count": 4,
     "metadata": {},
     "output_type": "execute_result"
    }
   ],
   "source": [
    "region_2.head()"
   ]
  },
  {
   "cell_type": "code",
   "execution_count": 5,
   "id": "5d5c60c8",
   "metadata": {},
   "outputs": [
    {
     "data": {
      "text/html": [
       "<div>\n",
       "<style scoped>\n",
       "    .dataframe tbody tr th:only-of-type {\n",
       "        vertical-align: middle;\n",
       "    }\n",
       "\n",
       "    .dataframe tbody tr th {\n",
       "        vertical-align: top;\n",
       "    }\n",
       "\n",
       "    .dataframe thead th {\n",
       "        text-align: right;\n",
       "    }\n",
       "</style>\n",
       "<table border=\"1\" class=\"dataframe\">\n",
       "  <thead>\n",
       "    <tr style=\"text-align: right;\">\n",
       "      <th></th>\n",
       "      <th>id</th>\n",
       "      <th>f0</th>\n",
       "      <th>f1</th>\n",
       "      <th>f2</th>\n",
       "      <th>product</th>\n",
       "    </tr>\n",
       "  </thead>\n",
       "  <tbody>\n",
       "    <tr>\n",
       "      <th>0</th>\n",
       "      <td>fwXo0</td>\n",
       "      <td>-1.146987</td>\n",
       "      <td>0.963328</td>\n",
       "      <td>-0.828965</td>\n",
       "      <td>27.758673</td>\n",
       "    </tr>\n",
       "    <tr>\n",
       "      <th>1</th>\n",
       "      <td>WJtFt</td>\n",
       "      <td>0.262778</td>\n",
       "      <td>0.269839</td>\n",
       "      <td>-2.530187</td>\n",
       "      <td>56.069697</td>\n",
       "    </tr>\n",
       "    <tr>\n",
       "      <th>2</th>\n",
       "      <td>ovLUW</td>\n",
       "      <td>0.194587</td>\n",
       "      <td>0.289035</td>\n",
       "      <td>-5.586433</td>\n",
       "      <td>62.871910</td>\n",
       "    </tr>\n",
       "    <tr>\n",
       "      <th>3</th>\n",
       "      <td>q6cA6</td>\n",
       "      <td>2.236060</td>\n",
       "      <td>-0.553760</td>\n",
       "      <td>0.930038</td>\n",
       "      <td>114.572842</td>\n",
       "    </tr>\n",
       "    <tr>\n",
       "      <th>4</th>\n",
       "      <td>WPMUX</td>\n",
       "      <td>-0.515993</td>\n",
       "      <td>1.716266</td>\n",
       "      <td>5.899011</td>\n",
       "      <td>149.600746</td>\n",
       "    </tr>\n",
       "  </tbody>\n",
       "</table>\n",
       "</div>"
      ],
      "text/plain": [
       "      id        f0        f1        f2     product\n",
       "0  fwXo0 -1.146987  0.963328 -0.828965   27.758673\n",
       "1  WJtFt  0.262778  0.269839 -2.530187   56.069697\n",
       "2  ovLUW  0.194587  0.289035 -5.586433   62.871910\n",
       "3  q6cA6  2.236060 -0.553760  0.930038  114.572842\n",
       "4  WPMUX -0.515993  1.716266  5.899011  149.600746"
      ]
     },
     "execution_count": 5,
     "metadata": {},
     "output_type": "execute_result"
    }
   ],
   "source": [
    "region_3.head()"
   ]
  },
  {
   "cell_type": "markdown",
   "id": "f3cd41be",
   "metadata": {},
   "source": [
    "Как видим, данные загружены корректно. Вызовем функцию `info()` для каждой таблицы."
   ]
  },
  {
   "cell_type": "code",
   "execution_count": 6,
   "id": "ea40a565",
   "metadata": {},
   "outputs": [
    {
     "name": "stdout",
     "output_type": "stream",
     "text": [
      "<class 'pandas.core.frame.DataFrame'>\n",
      "RangeIndex: 100000 entries, 0 to 99999\n",
      "Data columns (total 5 columns):\n",
      " #   Column   Non-Null Count   Dtype  \n",
      "---  ------   --------------   -----  \n",
      " 0   id       100000 non-null  object \n",
      " 1   f0       100000 non-null  float64\n",
      " 2   f1       100000 non-null  float64\n",
      " 3   f2       100000 non-null  float64\n",
      " 4   product  100000 non-null  float64\n",
      "dtypes: float64(4), object(1)\n",
      "memory usage: 3.8+ MB\n"
     ]
    }
   ],
   "source": [
    "region_1.info()"
   ]
  },
  {
   "cell_type": "code",
   "execution_count": 7,
   "id": "90692164",
   "metadata": {},
   "outputs": [
    {
     "name": "stdout",
     "output_type": "stream",
     "text": [
      "<class 'pandas.core.frame.DataFrame'>\n",
      "RangeIndex: 100000 entries, 0 to 99999\n",
      "Data columns (total 5 columns):\n",
      " #   Column   Non-Null Count   Dtype  \n",
      "---  ------   --------------   -----  \n",
      " 0   id       100000 non-null  object \n",
      " 1   f0       100000 non-null  float64\n",
      " 2   f1       100000 non-null  float64\n",
      " 3   f2       100000 non-null  float64\n",
      " 4   product  100000 non-null  float64\n",
      "dtypes: float64(4), object(1)\n",
      "memory usage: 3.8+ MB\n"
     ]
    }
   ],
   "source": [
    "region_2.info()"
   ]
  },
  {
   "cell_type": "code",
   "execution_count": 8,
   "id": "964fda96",
   "metadata": {},
   "outputs": [
    {
     "name": "stdout",
     "output_type": "stream",
     "text": [
      "<class 'pandas.core.frame.DataFrame'>\n",
      "RangeIndex: 100000 entries, 0 to 99999\n",
      "Data columns (total 5 columns):\n",
      " #   Column   Non-Null Count   Dtype  \n",
      "---  ------   --------------   -----  \n",
      " 0   id       100000 non-null  object \n",
      " 1   f0       100000 non-null  float64\n",
      " 2   f1       100000 non-null  float64\n",
      " 3   f2       100000 non-null  float64\n",
      " 4   product  100000 non-null  float64\n",
      "dtypes: float64(4), object(1)\n",
      "memory usage: 3.8+ MB\n"
     ]
    }
   ],
   "source": [
    "region_3.info()"
   ]
  },
  {
   "cell_type": "markdown",
   "id": "14563dca",
   "metadata": {},
   "source": [
    "В распоряжении находятся качественные данные, в который нет пропусков, все столбцы таблицы содержат те же типы данные, что и в других, количество наблюдений одинаково для всех датасетов. "
   ]
  },
  {
   "cell_type": "markdown",
   "id": "dda45e0e",
   "metadata": {},
   "source": [
    "Проведем проверки на наличие явных дубликатов."
   ]
  },
  {
   "cell_type": "code",
   "execution_count": 9,
   "id": "85324729",
   "metadata": {},
   "outputs": [
    {
     "name": "stdout",
     "output_type": "stream",
     "text": [
      "Количество явных дубликатов в таблице с данными Региона № 1: 0 \n",
      "Количество явных дубликатов в таблице с данными Региона № 2: 0 \n",
      "Количество явных дубликатов в таблице с данными Региона № 3: 0\n"
     ]
    }
   ],
   "source": [
    "print(\n",
    "    'Количество явных дубликатов в таблице с данными Региона № 1:', region_1.duplicated().sum(),\n",
    "    '\\nКоличество явных дубликатов в таблице с данными Региона № 2:', region_2.duplicated().sum(),\n",
    "    '\\nКоличество явных дубликатов в таблице с данными Региона № 3:', region_3.duplicated().sum()\n",
    "     )"
   ]
  },
  {
   "cell_type": "markdown",
   "id": "524a9a5e",
   "metadata": {},
   "source": [
    "Можем полагать, что перед нами действительно данные о 300 000 скважинах. Рассмотрим возможные дубликаты по столбцу `id`."
   ]
  },
  {
   "cell_type": "code",
   "execution_count": 10,
   "id": "4537ecad",
   "metadata": {},
   "outputs": [
    {
     "name": "stdout",
     "output_type": "stream",
     "text": [
      "Количество дубликатов по столбцу \"id\", Региона № 1: 10 \n",
      "Количество дубликатов по столбцу \"id\", Региона № 2: 4 \n",
      "Количество дубликатов по столбцу \"id\", Региона № 3: 4\n"
     ]
    }
   ],
   "source": [
    "print(\n",
    "    'Количество дубликатов по столбцу \"id\", Региона № 1:', region_1['id'].duplicated().sum(),\n",
    "    '\\nКоличество дубликатов по столбцу \"id\", Региона № 2:', region_2['id'].duplicated().sum(),\n",
    "    '\\nКоличество дубликатов по столбцу \"id\", Региона № 3:', region_3['id'].duplicated().sum()\n",
    "     )"
   ]
  },
  {
   "cell_type": "markdown",
   "id": "ed201118",
   "metadata": {},
   "source": [
    "Проанализируем дубликаты по столбцу `id`."
   ]
  },
  {
   "cell_type": "code",
   "execution_count": 11,
   "id": "949997e5",
   "metadata": {},
   "outputs": [
    {
     "data": {
      "text/plain": [
       "A5aEY    2\n",
       "AGS9W    2\n",
       "bsk9y    2\n",
       "bxg6G    2\n",
       "74z30    2\n",
       "QcMuo    2\n",
       "HZww2    2\n",
       "fiKDv    2\n",
       "Tdehs    2\n",
       "TtcGQ    2\n",
       "Name: id, dtype: int64"
      ]
     },
     "execution_count": 11,
     "metadata": {},
     "output_type": "execute_result"
    }
   ],
   "source": [
    "region_1['id'].value_counts().head(10)"
   ]
  },
  {
   "cell_type": "code",
   "execution_count": 12,
   "id": "a046963e",
   "metadata": {},
   "outputs": [
    {
     "data": {
      "text/html": [
       "<div>\n",
       "<style scoped>\n",
       "    .dataframe tbody tr th:only-of-type {\n",
       "        vertical-align: middle;\n",
       "    }\n",
       "\n",
       "    .dataframe tbody tr th {\n",
       "        vertical-align: top;\n",
       "    }\n",
       "\n",
       "    .dataframe thead th {\n",
       "        text-align: right;\n",
       "    }\n",
       "</style>\n",
       "<table border=\"1\" class=\"dataframe\">\n",
       "  <thead>\n",
       "    <tr style=\"text-align: right;\">\n",
       "      <th></th>\n",
       "      <th>id</th>\n",
       "      <th>f0</th>\n",
       "      <th>f1</th>\n",
       "      <th>f2</th>\n",
       "      <th>product</th>\n",
       "    </tr>\n",
       "  </thead>\n",
       "  <tbody>\n",
       "    <tr>\n",
       "      <th>16633</th>\n",
       "      <td>fiKDv</td>\n",
       "      <td>0.157341</td>\n",
       "      <td>1.028359</td>\n",
       "      <td>5.585586</td>\n",
       "      <td>95.817889</td>\n",
       "    </tr>\n",
       "    <tr>\n",
       "      <th>90815</th>\n",
       "      <td>fiKDv</td>\n",
       "      <td>0.049883</td>\n",
       "      <td>0.841313</td>\n",
       "      <td>6.394613</td>\n",
       "      <td>137.346586</td>\n",
       "    </tr>\n",
       "  </tbody>\n",
       "</table>\n",
       "</div>"
      ],
      "text/plain": [
       "          id        f0        f1        f2     product\n",
       "16633  fiKDv  0.157341  1.028359  5.585586   95.817889\n",
       "90815  fiKDv  0.049883  0.841313  6.394613  137.346586"
      ]
     },
     "execution_count": 12,
     "metadata": {},
     "output_type": "execute_result"
    }
   ],
   "source": [
    "region_1[region_1['id'] == 'fiKDv']"
   ]
  },
  {
   "cell_type": "code",
   "execution_count": 13,
   "id": "e1da6763",
   "metadata": {},
   "outputs": [
    {
     "data": {
      "text/html": [
       "<div>\n",
       "<style scoped>\n",
       "    .dataframe tbody tr th:only-of-type {\n",
       "        vertical-align: middle;\n",
       "    }\n",
       "\n",
       "    .dataframe tbody tr th {\n",
       "        vertical-align: top;\n",
       "    }\n",
       "\n",
       "    .dataframe thead th {\n",
       "        text-align: right;\n",
       "    }\n",
       "</style>\n",
       "<table border=\"1\" class=\"dataframe\">\n",
       "  <thead>\n",
       "    <tr style=\"text-align: right;\">\n",
       "      <th></th>\n",
       "      <th>id</th>\n",
       "      <th>f0</th>\n",
       "      <th>f1</th>\n",
       "      <th>f2</th>\n",
       "      <th>product</th>\n",
       "    </tr>\n",
       "  </thead>\n",
       "  <tbody>\n",
       "    <tr>\n",
       "      <th>1949</th>\n",
       "      <td>QcMuo</td>\n",
       "      <td>0.506563</td>\n",
       "      <td>-0.323775</td>\n",
       "      <td>-2.215583</td>\n",
       "      <td>75.496502</td>\n",
       "    </tr>\n",
       "    <tr>\n",
       "      <th>63593</th>\n",
       "      <td>QcMuo</td>\n",
       "      <td>0.635635</td>\n",
       "      <td>-0.473422</td>\n",
       "      <td>0.862670</td>\n",
       "      <td>64.578675</td>\n",
       "    </tr>\n",
       "  </tbody>\n",
       "</table>\n",
       "</div>"
      ],
      "text/plain": [
       "          id        f0        f1        f2    product\n",
       "1949   QcMuo  0.506563 -0.323775 -2.215583  75.496502\n",
       "63593  QcMuo  0.635635 -0.473422  0.862670  64.578675"
      ]
     },
     "execution_count": 13,
     "metadata": {},
     "output_type": "execute_result"
    }
   ],
   "source": [
    "region_1[region_1['id'] == 'QcMuo']"
   ]
  },
  {
   "cell_type": "code",
   "execution_count": 14,
   "id": "d2656016",
   "metadata": {},
   "outputs": [
    {
     "data": {
      "text/html": [
       "<div>\n",
       "<style scoped>\n",
       "    .dataframe tbody tr th:only-of-type {\n",
       "        vertical-align: middle;\n",
       "    }\n",
       "\n",
       "    .dataframe tbody tr th {\n",
       "        vertical-align: top;\n",
       "    }\n",
       "\n",
       "    .dataframe thead th {\n",
       "        text-align: right;\n",
       "    }\n",
       "</style>\n",
       "<table border=\"1\" class=\"dataframe\">\n",
       "  <thead>\n",
       "    <tr style=\"text-align: right;\">\n",
       "      <th></th>\n",
       "      <th>id</th>\n",
       "      <th>f0</th>\n",
       "      <th>f1</th>\n",
       "      <th>f2</th>\n",
       "      <th>product</th>\n",
       "    </tr>\n",
       "  </thead>\n",
       "  <tbody>\n",
       "    <tr>\n",
       "      <th>42529</th>\n",
       "      <td>AGS9W</td>\n",
       "      <td>1.454747</td>\n",
       "      <td>-0.479651</td>\n",
       "      <td>0.683380</td>\n",
       "      <td>126.370504</td>\n",
       "    </tr>\n",
       "    <tr>\n",
       "      <th>69163</th>\n",
       "      <td>AGS9W</td>\n",
       "      <td>-0.933795</td>\n",
       "      <td>0.116194</td>\n",
       "      <td>-3.655896</td>\n",
       "      <td>19.230453</td>\n",
       "    </tr>\n",
       "  </tbody>\n",
       "</table>\n",
       "</div>"
      ],
      "text/plain": [
       "          id        f0        f1        f2     product\n",
       "42529  AGS9W  1.454747 -0.479651  0.683380  126.370504\n",
       "69163  AGS9W -0.933795  0.116194 -3.655896   19.230453"
      ]
     },
     "execution_count": 14,
     "metadata": {},
     "output_type": "execute_result"
    }
   ],
   "source": [
    "region_1[region_1['id'] == 'AGS9W']"
   ]
  },
  {
   "cell_type": "markdown",
   "id": "aec4c555",
   "metadata": {},
   "source": [
    "ID у скважин совпадают, а характеристики явно отличаются. Здесь стоит заподозрить ошибки наименованиях скважин, а не дубликаты самих месторождений, потому число скважин мы не меняем, а вот столбец `id` лучше удалить, модели он будет вредить."
   ]
  },
  {
   "cell_type": "code",
   "execution_count": 15,
   "id": "1db89985",
   "metadata": {},
   "outputs": [],
   "source": [
    "region_1 = region_1.drop(['id'], axis=1)\n",
    "region_2 = region_2.drop(['id'], axis=1)\n",
    "region_3 = region_3.drop(['id'], axis=1)"
   ]
  },
  {
   "cell_type": "markdown",
   "id": "47951dde",
   "metadata": {},
   "source": [
    "Далее проведем обзор количественных признаков в столбцах `f0`, `f1`, `f2` по каждому региону"
   ]
  },
  {
   "cell_type": "code",
   "execution_count": 16,
   "id": "ff210f25",
   "metadata": {},
   "outputs": [
    {
     "data": {
      "text/plain": [
       "count    100000.000000\n",
       "mean          0.500419\n",
       "std           0.871832\n",
       "min          -1.408605\n",
       "25%          -0.072580\n",
       "50%           0.502360\n",
       "75%           1.073581\n",
       "max           2.362331\n",
       "Name: f0, dtype: float64"
      ]
     },
     "execution_count": 16,
     "metadata": {},
     "output_type": "execute_result"
    }
   ],
   "source": [
    "region_1['f0'].describe()"
   ]
  },
  {
   "cell_type": "code",
   "execution_count": 17,
   "id": "89fac050",
   "metadata": {},
   "outputs": [
    {
     "data": {
      "image/png": "[encoded data removed]",
      "text/plain": [
       "<Figure size 1440x648 with 2 Axes>"
      ]
     },
     "metadata": {
      "needs_background": "light"
     },
     "output_type": "display_data"
    }
   ],
   "source": [
    "fig, (ax_1, ax_2) = plt.subplots(2, figsize=(20, 9))\n",
    "\n",
    "fig.suptitle('Распределение значений признака \"f0\" Региона № 1', fontsize=20)\n",
    "\n",
    "ax_1 = plt.subplot2grid((3, 3), (0, 0), colspan=2, rowspan=3)\n",
    "ax_2 = plt.subplot2grid((3, 3), (0, 2), rowspan=3)\n",
    "\n",
    "ax_1.hist(region_1['f0'], 60, facecolor='g', alpha=0.7)\n",
    "ax_2.boxplot(region_1['f0'])\n",
    "\n",
    "plt.xticks([1], ['\"f0\" Региона № 1'], fontsize=15)\n",
    "\n",
    "ax_1.set_xlabel('\"f0\" Региона № 1', fontsize=15)\n",
    "ax_2.set_ylabel('\"f0\" Региона № 1', fontsize=15)\n",
    "\n",
    "plt.show()"
   ]
  },
  {
   "cell_type": "markdown",
   "id": "3884aa9e",
   "metadata": {},
   "source": [
    "Распределение значение столбца `f0` Региона № 1 имеет несколько пиков, также обращает на себя внимание компактность распределения и отсутствие выбросов. Обратимся к следующему столбцу первого региона."
   ]
  },
  {
   "cell_type": "code",
   "execution_count": 18,
   "id": "3332beda",
   "metadata": {},
   "outputs": [
    {
     "data": {
      "text/plain": [
       "count    100000.000000\n",
       "mean          0.250143\n",
       "std           0.504433\n",
       "min          -0.848218\n",
       "25%          -0.200881\n",
       "50%           0.250252\n",
       "75%           0.700646\n",
       "max           1.343769\n",
       "Name: f1, dtype: float64"
      ]
     },
     "execution_count": 18,
     "metadata": {},
     "output_type": "execute_result"
    }
   ],
   "source": [
    "region_1['f1'].describe()"
   ]
  },
  {
   "cell_type": "code",
   "execution_count": 19,
   "id": "a54116d0",
   "metadata": {},
   "outputs": [
    {
     "data": {
      "image/png": "[encoded data removed]",
      "text/plain": [
       "<Figure size 1440x648 with 2 Axes>"
      ]
     },
     "metadata": {
      "needs_background": "light"
     },
     "output_type": "display_data"
    }
   ],
   "source": [
    "fig, (ax_1, ax_2) = plt.subplots(2, figsize=(20, 9))\n",
    "\n",
    "fig.suptitle('Распределение значений признака \"f1\" Региона № 1', fontsize=20)\n",
    "\n",
    "ax_1 = plt.subplot2grid((3, 3), (0, 0), colspan=2, rowspan=3)\n",
    "ax_2 = plt.subplot2grid((3, 3), (0, 2), rowspan=3)\n",
    "\n",
    "ax_1.hist(region_1['f1'], 60, facecolor='g', alpha=0.7)\n",
    "ax_2.boxplot(region_1['f1'])\n",
    "\n",
    "plt.xticks([1], ['\"f1\" Региона № 1'], fontsize=15)\n",
    "\n",
    "ax_1.set_xlabel('\"f1\" Региона № 1', fontsize=15)\n",
    "ax_2.set_ylabel('\"f1\" Региона № 1', fontsize=15)\n",
    "\n",
    "plt.show()"
   ]
  },
  {
   "cell_type": "markdown",
   "id": "e951cb38",
   "metadata": {},
   "source": [
    "Так же наблюдается выраженные пики в распределении значений данных. Далее последний столбец региона."
   ]
  },
  {
   "cell_type": "code",
   "execution_count": 20,
   "id": "948443e4",
   "metadata": {},
   "outputs": [
    {
     "data": {
      "text/plain": [
       "count    100000.000000\n",
       "mean          2.502647\n",
       "std           3.248248\n",
       "min         -12.088328\n",
       "25%           0.287748\n",
       "50%           2.515969\n",
       "75%           4.715088\n",
       "max          16.003790\n",
       "Name: f2, dtype: float64"
      ]
     },
     "execution_count": 20,
     "metadata": {},
     "output_type": "execute_result"
    }
   ],
   "source": [
    "region_1['f2'].describe()"
   ]
  },
  {
   "cell_type": "code",
   "execution_count": 21,
   "id": "26d82fd6",
   "metadata": {},
   "outputs": [
    {
     "data": {
      "image/png": "[encoded data removed]",
      "text/plain": [
       "<Figure size 1440x648 with 2 Axes>"
      ]
     },
     "metadata": {
      "needs_background": "light"
     },
     "output_type": "display_data"
    }
   ],
   "source": [
    "fig, (ax_1, ax_2) = plt.subplots(2, figsize=(20, 9))\n",
    "\n",
    "fig.suptitle('Распределение значений признака \"f2\" Региона № 1', fontsize=20)\n",
    "\n",
    "ax_1 = plt.subplot2grid((3, 3), (0, 0), colspan=2, rowspan=3)\n",
    "ax_2 = plt.subplot2grid((3, 3), (0, 2), rowspan=3)\n",
    "\n",
    "ax_1.hist(region_1['f2'], 60, facecolor='g', alpha=0.7)\n",
    "ax_2.boxplot(region_1['f2'])\n",
    "\n",
    "plt.xticks([1], ['\"f2\" Региона № 1'], fontsize=15)\n",
    "\n",
    "ax_1.set_xlabel('\"f2\" Региона № 1', fontsize=15)\n",
    "ax_2.set_ylabel('\"f2\" Региона № 1', fontsize=15)\n",
    "\n",
    "plt.show()"
   ]
  },
  {
   "cell_type": "markdown",
   "id": "480b7c5c",
   "metadata": {},
   "source": [
    "Вот и нормальное распределение значений признака, наблюдаем больший размах данных и выбросы. О природе признаков мы не имеем представления, потому не стоить прибегать к удалению выбросов. Перейдем к анализу признаков региона № 2."
   ]
  },
  {
   "cell_type": "code",
   "execution_count": 22,
   "id": "85c4a6bf",
   "metadata": {},
   "outputs": [
    {
     "data": {
      "text/plain": [
       "count    100000.000000\n",
       "mean          1.141296\n",
       "std           8.965932\n",
       "min         -31.609576\n",
       "25%          -6.298551\n",
       "50%           1.153055\n",
       "75%           8.621015\n",
       "max          29.421755\n",
       "Name: f0, dtype: float64"
      ]
     },
     "execution_count": 22,
     "metadata": {},
     "output_type": "execute_result"
    }
   ],
   "source": [
    "region_2['f0'].describe()"
   ]
  },
  {
   "cell_type": "code",
   "execution_count": 23,
   "id": "90e22781",
   "metadata": {},
   "outputs": [
    {
     "data": {
      "image/png": "[encoded data removed]",
      "text/plain": [
       "<Figure size 1440x648 with 2 Axes>"
      ]
     },
     "metadata": {
      "needs_background": "light"
     },
     "output_type": "display_data"
    }
   ],
   "source": [
    "fig, (ax_1, ax_2) = plt.subplots(2, figsize=(20, 9))\n",
    "\n",
    "fig.suptitle('Распределение значений признака \"f0\" Региона № 2', fontsize=20)\n",
    "\n",
    "ax_1 = plt.subplot2grid((3, 3), (0, 0), colspan=2, rowspan=3)\n",
    "ax_2 = plt.subplot2grid((3, 3), (0, 2), rowspan=3)\n",
    "\n",
    "ax_1.hist(region_2['f0'], 60, facecolor='g', alpha=0.7)\n",
    "ax_2.boxplot(region_2['f0'])\n",
    "\n",
    "plt.xticks([1], ['\"f0\" Региона № 2'], fontsize=15)\n",
    "\n",
    "ax_1.set_xlabel('\"f0\" Региона № 2', fontsize=15)\n",
    "ax_2.set_ylabel('\"f0\" Региона № 2', fontsize=15)\n",
    "\n",
    "plt.show()"
   ]
  },
  {
   "cell_type": "markdown",
   "id": "0f8d95ca",
   "metadata": {},
   "source": [
    "Мы видим два пика в распределении признака f0 второго региона, достаточно большая амплитуда значений. "
   ]
  },
  {
   "cell_type": "code",
   "execution_count": 24,
   "id": "f521707d",
   "metadata": {},
   "outputs": [
    {
     "data": {
      "text/plain": [
       "count    100000.000000\n",
       "mean         -4.796579\n",
       "std           5.119872\n",
       "min         -26.358598\n",
       "25%          -8.267985\n",
       "50%          -4.813172\n",
       "75%          -1.332816\n",
       "max          18.734063\n",
       "Name: f1, dtype: float64"
      ]
     },
     "execution_count": 24,
     "metadata": {},
     "output_type": "execute_result"
    }
   ],
   "source": [
    "region_2['f1'].describe()"
   ]
  },
  {
   "cell_type": "code",
   "execution_count": 25,
   "id": "1c5bf70a",
   "metadata": {},
   "outputs": [
    {
     "data": {
      "image/png": "[encoded data removed]",
      "text/plain": [
       "<Figure size 1440x648 with 2 Axes>"
      ]
     },
     "metadata": {
      "needs_background": "light"
     },
     "output_type": "display_data"
    }
   ],
   "source": [
    "fig, (ax_1, ax_2) = plt.subplots(2, figsize=(20, 9))\n",
    "\n",
    "fig.suptitle('Распределение значений признака \"f1\" Региона № 2', fontsize=20)\n",
    "\n",
    "ax_1 = plt.subplot2grid((3, 3), (0, 0), colspan=2, rowspan=3)\n",
    "ax_2 = plt.subplot2grid((3, 3), (0, 2), rowspan=3)\n",
    "\n",
    "ax_1.hist(region_2['f1'], 60, facecolor='g', alpha=0.7)\n",
    "ax_2.boxplot(region_2['f1'])\n",
    "\n",
    "plt.xticks([1], ['\"f1\" Региона № 2'], fontsize=15)\n",
    "\n",
    "ax_1.set_xlabel('\"f1\" Региона № 2', fontsize=15)\n",
    "ax_2.set_ylabel('\"f1\" Региона № 2', fontsize=15)\n",
    "\n",
    "plt.show()"
   ]
  },
  {
   "cell_type": "markdown",
   "id": "4ecb896f",
   "metadata": {},
   "source": [
    "Признак f1 второго региона распределен нормально, наблюдаются выбросы. "
   ]
  },
  {
   "cell_type": "code",
   "execution_count": 26,
   "id": "308c2025",
   "metadata": {},
   "outputs": [
    {
     "data": {
      "text/plain": [
       "count    100000.000000\n",
       "mean          2.502647\n",
       "std           3.248248\n",
       "min         -12.088328\n",
       "25%           0.287748\n",
       "50%           2.515969\n",
       "75%           4.715088\n",
       "max          16.003790\n",
       "Name: f2, dtype: float64"
      ]
     },
     "execution_count": 26,
     "metadata": {},
     "output_type": "execute_result"
    }
   ],
   "source": [
    "region_1['f2'].describe()"
   ]
  },
  {
   "cell_type": "code",
   "execution_count": 27,
   "id": "3e966b5d",
   "metadata": {},
   "outputs": [
    {
     "data": {
      "image/png": "[encoded data removed]",
      "text/plain": [
       "<Figure size 1440x648 with 2 Axes>"
      ]
     },
     "metadata": {
      "needs_background": "light"
     },
     "output_type": "display_data"
    }
   ],
   "source": [
    "fig, (ax_1, ax_2) = plt.subplots(2, figsize=(20, 9))\n",
    "\n",
    "fig.suptitle('Распределение значений признака \"f2\" Региона № 2', fontsize=20)\n",
    "\n",
    "ax_1 = plt.subplot2grid((3, 3), (0, 0), colspan=2, rowspan=3)\n",
    "ax_2 = plt.subplot2grid((3, 3), (0, 2), rowspan=3)\n",
    "\n",
    "ax_1.hist(region_2['f2'], 60, facecolor='g', alpha=0.7)\n",
    "ax_2.boxplot(region_2['f2'])\n",
    "\n",
    "plt.xticks([1], ['\"f2\" Региона № 2'], fontsize=15)\n",
    "\n",
    "ax_1.set_xlabel('\"f2\" Региона № 2', fontsize=15)\n",
    "ax_2.set_ylabel('\"f2\" Региона № 2', fontsize=15)\n",
    "\n",
    "plt.show()"
   ]
  },
  {
   "cell_type": "markdown",
   "id": "d384a97c",
   "metadata": {},
   "source": [
    "Признак f2 региона № 2 распределен категорично, показатель имеет ограниченный набор значений. Рассморим распределение признаков в третьем регионе."
   ]
  },
  {
   "cell_type": "code",
   "execution_count": 28,
   "id": "b1fa834d",
   "metadata": {},
   "outputs": [
    {
     "data": {
      "text/plain": [
       "count    100000.000000\n",
       "mean          0.002023\n",
       "std           1.732045\n",
       "min          -8.760004\n",
       "25%          -1.162288\n",
       "50%           0.009424\n",
       "75%           1.158535\n",
       "max           7.238262\n",
       "Name: f0, dtype: float64"
      ]
     },
     "execution_count": 28,
     "metadata": {},
     "output_type": "execute_result"
    }
   ],
   "source": [
    "region_3['f0'].describe()"
   ]
  },
  {
   "cell_type": "code",
   "execution_count": 29,
   "id": "0b928912",
   "metadata": {},
   "outputs": [
    {
     "data": {
      "image/png": "[encoded data removed]",
      "text/plain": [
       "<Figure size 1440x648 with 2 Axes>"
      ]
     },
     "metadata": {
      "needs_background": "light"
     },
     "output_type": "display_data"
    }
   ],
   "source": [
    "fig, (ax_1, ax_2) = plt.subplots(2, figsize=(20, 9))\n",
    "\n",
    "fig.suptitle('Распределение значений признака \"f0\" Региона № 3', fontsize=20)\n",
    "\n",
    "ax_1 = plt.subplot2grid((3, 3), (0, 0), colspan=2, rowspan=3)\n",
    "ax_2 = plt.subplot2grid((3, 3), (0, 2), rowspan=3)\n",
    "\n",
    "ax_1.hist(region_3['f0'], 60, facecolor='g', alpha=0.7)\n",
    "ax_2.boxplot(region_3['f0'])\n",
    "\n",
    "plt.xticks([1], ['\"f0\" Региона № 3'], fontsize=15)\n",
    "\n",
    "ax_1.set_xlabel('\"f0\" Региона № 3', fontsize=15)\n",
    "ax_2.set_ylabel('\"f0\" Региона № 3', fontsize=15)\n",
    "\n",
    "plt.show()"
   ]
  },
  {
   "cell_type": "code",
   "execution_count": 30,
   "id": "9c1ce3b0",
   "metadata": {},
   "outputs": [
    {
     "data": {
      "text/plain": [
       "count    100000.000000\n",
       "mean         -0.002081\n",
       "std           1.730417\n",
       "min          -7.084020\n",
       "25%          -1.174820\n",
       "50%          -0.009482\n",
       "75%           1.163678\n",
       "max           7.844801\n",
       "Name: f1, dtype: float64"
      ]
     },
     "execution_count": 30,
     "metadata": {},
     "output_type": "execute_result"
    }
   ],
   "source": [
    "region_3['f1'].describe()"
   ]
  },
  {
   "cell_type": "code",
   "execution_count": 31,
   "id": "0c5302b2",
   "metadata": {},
   "outputs": [
    {
     "data": {
      "image/png": "[encoded data removed]",
      "text/plain": [
       "<Figure size 1440x648 with 2 Axes>"
      ]
     },
     "metadata": {
      "needs_background": "light"
     },
     "output_type": "display_data"
    }
   ],
   "source": [
    "fig, (ax_1, ax_2) = plt.subplots(2, figsize=(20, 9))\n",
    "\n",
    "fig.suptitle('Распределение значений признака \"f1\" Региона № 3', fontsize=20)\n",
    "\n",
    "ax_1 = plt.subplot2grid((3, 3), (0, 0), colspan=2, rowspan=3)\n",
    "ax_2 = plt.subplot2grid((3, 3), (0, 2), rowspan=3)\n",
    "\n",
    "ax_1.hist(region_3['f1'], 60, facecolor='g', alpha=0.7)\n",
    "ax_2.boxplot(region_3['f1'])\n",
    "\n",
    "plt.xticks([1], ['\"f1\" Региона № 3'], fontsize=15)\n",
    "\n",
    "ax_1.set_xlabel('\"f1\" Региона № 3', fontsize=15)\n",
    "ax_2.set_ylabel('\"f1\" Региона № 3', fontsize=15)\n",
    "\n",
    "plt.show()"
   ]
  },
  {
   "cell_type": "code",
   "execution_count": 32,
   "id": "8d5659d3",
   "metadata": {},
   "outputs": [
    {
     "data": {
      "text/plain": [
       "count    100000.000000\n",
       "mean          2.495128\n",
       "std           3.473445\n",
       "min         -11.970335\n",
       "25%           0.130359\n",
       "50%           2.484236\n",
       "75%           4.858794\n",
       "max          16.739402\n",
       "Name: f2, dtype: float64"
      ]
     },
     "execution_count": 32,
     "metadata": {},
     "output_type": "execute_result"
    }
   ],
   "source": [
    "region_3['f2'].describe()"
   ]
  },
  {
   "cell_type": "code",
   "execution_count": 33,
   "id": "5cd25b6d",
   "metadata": {},
   "outputs": [
    {
     "data": {
      "image/png": "[encoded data removed]",
      "text/plain": [
       "<Figure size 1440x648 with 2 Axes>"
      ]
     },
     "metadata": {
      "needs_background": "light"
     },
     "output_type": "display_data"
    }
   ],
   "source": [
    "fig, (ax_1, ax_2) = plt.subplots(2, figsize=(20, 9))\n",
    "\n",
    "fig.suptitle('Распределение значений признака \"f2\" Региона № 3', fontsize=20)\n",
    "\n",
    "ax_1 = plt.subplot2grid((3, 3), (0, 0), colspan=2, rowspan=3)\n",
    "ax_2 = plt.subplot2grid((3, 3), (0, 2), rowspan=3)\n",
    "\n",
    "ax_1.hist(region_3['f2'], 60, facecolor='g', alpha=0.7)\n",
    "ax_2.boxplot(region_3['f2'])\n",
    "\n",
    "plt.xticks([1], ['\"f2\" Региона № 3'], fontsize=15)\n",
    "\n",
    "ax_1.set_xlabel('\"f2\" Региона № 3', fontsize=15)\n",
    "ax_2.set_ylabel('\"f2\" Региона № 3', fontsize=15)\n",
    "\n",
    "plt.show()"
   ]
  },
  {
   "cell_type": "markdown",
   "id": "3446379d",
   "metadata": {},
   "source": [
    "Распределение всех признаков в третьем регионе носит нормальный характер, амплитуда значений признаков вполне сравнима, наблюдаются выбросы в значениях в каждом признаке."
   ]
  },
  {
   "cell_type": "markdown",
   "id": "0e77023c",
   "metadata": {},
   "source": [
    "<div class=\"alert alert-block alert-success\">\n",
    "<b>Успех:</b> Данные загружены и осмотрены корректно. Согласен, что колонка id нам не нужна.\n",
    "    \n",
    "Радует, что распределения были визуализированы!\n",
    "</div>"
   ]
  },
  {
   "cell_type": "markdown",
   "id": "55264f5d",
   "metadata": {},
   "source": [
    "<div class=\"alert alert-block alert-warning\">\n",
    "<b>Комментарий студента:</b> Долго думал над выбросами, но все же решил оставить. Это было корректно, учитывая условность признаков? В других случаях лучше избавляться от них? Ниже я использовал для оценки доверительного интервала, как ты отметил, квантили, те же квантили будут хорошим методом для удаления выбросов?\n",
    "</div>"
   ]
  },
  {
   "cell_type": "markdown",
   "id": "c9d10b86",
   "metadata": {},
   "source": [
    "<div class=\"alert alert-block alert-success\">\n",
    "<b>Успех (ревью 2):</b> Нет, лучше не удалять. Аномалии можно удалять только в случае, если удается доказать, что это ошибки.\n",
    "</div>"
   ]
  },
  {
   "cell_type": "markdown",
   "id": "05f704ba",
   "metadata": {},
   "source": [
    "Распределения и разброс данных в датасетах неоднородный, так же, как и наборы распределений признаков для каждого в отдельности региона, что обещает нам разницу в показаниях метрики RMSE линейной регрессии по каждому региону."
   ]
  },
  {
   "cell_type": "markdown",
   "id": "537ea45f",
   "metadata": {},
   "source": [
    "Далее разделим наши таблицы на обучающие и валидационные выборки, в соотношении 0.75:0.25 соответственно."
   ]
  },
  {
   "cell_type": "code",
   "execution_count": 34,
   "id": "d6f33c95",
   "metadata": {},
   "outputs": [],
   "source": [
    "train_region_1, valid_region_1 = train_test_split(region_1, test_size=0.25, random_state=12345)\n",
    "train_region_2, valid_region_2 = train_test_split(region_2, test_size=0.25, random_state=12345)\n",
    "train_region_3, valid_region_3 = train_test_split(region_3, test_size=0.25, random_state=12345)"
   ]
  },
  {
   "cell_type": "code",
   "execution_count": 35,
   "id": "7004f1aa",
   "metadata": {},
   "outputs": [
    {
     "name": "stdout",
     "output_type": "stream",
     "text": [
      "Доля строк в обучающей выборке Регион № 1: 0.75     \n",
      "Доля строк в валидационной выборке Регион № 1: 0.25     \n",
      "\n",
      "Доля строк в обучающей выборке Регион № 2: 0.75     \n",
      "Доля строк в валидационной выборке Регион № 2: 0.25     \n",
      "\n",
      "Доля строк в обучающей выборке Регион № 3: 0.75     \n",
      "Доля строк в валидационной выборке Регион № 3: 0.25\n"
     ]
    }
   ],
   "source": [
    "print(\n",
    "    f'Доля строк в обучающей выборке Регион № 1: {len(train_region_1) / len(region_1):.2f} \\\n",
    "    \\nДоля строк в валидационной выборке Регион № 1: {len(valid_region_1) / len(region_1):.2f} \\\n",
    "    \\n\\nДоля строк в обучающей выборке Регион № 2: {len(train_region_2) / len(region_2):.2f} \\\n",
    "    \\nДоля строк в валидационной выборке Регион № 2: {len(valid_region_2) / len(region_2):.2f} \\\n",
    "    \\n\\nДоля строк в обучающей выборке Регион № 3: {len(train_region_3) / len(region_3):.2f} \\\n",
    "    \\nДоля строк в валидационной выборке Регион № 3: {len(valid_region_3) / len(region_3):.2f}'\n",
    ")"
   ]
  },
  {
   "cell_type": "markdown",
   "id": "7bca146b",
   "metadata": {},
   "source": [
    "Далее выделим целевой признак для получившихся выборок."
   ]
  },
  {
   "cell_type": "code",
   "execution_count": 36,
   "id": "f2b684e3",
   "metadata": {},
   "outputs": [],
   "source": [
    "# Созадем выборки для Региона № 1\n",
    "\n",
    "target_train_r1 = train_region_1['product']\n",
    "features_train_r1 = train_region_1.drop('product', axis=1)\n",
    "\n",
    "target_valid_r1 = valid_region_1['product']\n",
    "features_valid_r1 = valid_region_1.drop('product', axis=1)\n",
    "\n",
    "# Созадем выборки для Региона № 2\n",
    "\n",
    "target_train_r2 = train_region_2['product']\n",
    "features_train_r2 = train_region_2.drop('product', axis=1)\n",
    "\n",
    "target_valid_r2 = valid_region_2['product']\n",
    "features_valid_r2 = valid_region_2.drop('product', axis=1)\n",
    "\n",
    "# Созадем выборки для Региона № 3\n",
    "\n",
    "target_train_r3 = train_region_3['product']\n",
    "features_train_r3 = train_region_3.drop('product', axis=1)\n",
    "\n",
    "target_valid_r3 = valid_region_3['product']\n",
    "features_valid_r3 = valid_region_3.drop('product', axis=1)"
   ]
  },
  {
   "cell_type": "markdown",
   "id": "bb53b8c6",
   "metadata": {},
   "source": [
    "Поскольку признаки имеют разный масштаб с помощью класса **StandardScaler()** приведем преобразование до единого масштаба признаков."
   ]
  },
  {
   "cell_type": "code",
   "execution_count": 37,
   "id": "f662f7db",
   "metadata": {},
   "outputs": [],
   "source": [
    "numeric = ['f0', 'f1', 'f2']\n",
    "\n",
    "scaler = StandardScaler()\n",
    "scaler.fit(features_train_r1[numeric])\n",
    "\n",
    "features_train_r1[numeric] = scaler.transform(features_train_r1[numeric])\n",
    "features_valid_r1[numeric] = scaler.transform(features_valid_r1[numeric])\n",
    "\n",
    "features_train_r2[numeric] = scaler.transform(features_train_r2[numeric])\n",
    "features_valid_r2[numeric] = scaler.transform(features_valid_r2[numeric])\n",
    "\n",
    "features_train_r3[numeric] = scaler.transform(features_train_r3[numeric])\n",
    "features_valid_r3[numeric] = scaler.transform(features_valid_r3[numeric])"
   ]
  },
  {
   "cell_type": "markdown",
   "id": "e9b5bb98",
   "metadata": {},
   "source": [
    "<div class=\"alert alert-block alert-success\">\n",
    "<b>Успех:</b> Отлично, что scaler был обучен только на треине!\n",
    "</div>"
   ]
  },
  {
   "cell_type": "markdown",
   "id": "d26d49c2",
   "metadata": {},
   "source": [
    "<div class=\"alert alert-block alert-warning\">\n",
    "<b>Комментарий студента:</b> Сделал масштабирование, но на практике без него результаты те же. Это тоже частный случай? Для регрессивных моделей лучше всегда делать масштабирование? \n",
    "</div>"
   ]
  },
  {
   "cell_type": "markdown",
   "id": "e6c8d617",
   "metadata": {},
   "source": [
    "<div class=\"alert alert-block alert-success\">\n",
    "<b>Успех (ревью 2):</b> Для линейных моделей лучше делать всегда. Это может помочь в случае, если распределение немного изменится.\n",
    "</div>"
   ]
  },
  {
   "cell_type": "markdown",
   "id": "7293aae8",
   "metadata": {},
   "source": [
    "## Обучение и проверка модели для каждого региона"
   ]
  },
  {
   "cell_type": "markdown",
   "id": "3a5ef5d1",
   "metadata": {},
   "source": [
    "В условиях задачи сказано, что при разведке региона исследуют 500 точек, из которых с помощью машинного обучения выбирают 200 лучших для разработки. Смоделируем данный принцип в рамках работы модели. При предсказании выберем из валидационной выборке 500 случайных значений, сделаем по ним прогноз."
   ]
  },
  {
   "cell_type": "markdown",
   "id": "deab4055",
   "metadata": {},
   "source": [
    "Проведем обучение модели линейной регрессии по каждому региону, оценим предсказания метрикой RMSE. Регион № 1:"
   ]
  },
  {
   "cell_type": "code",
   "execution_count": 38,
   "id": "5166a606",
   "metadata": {
    "scrolled": true
   },
   "outputs": [
    {
     "name": "stdout",
     "output_type": "stream",
     "text": [
      "RMSE модели линейной регрессии на валидационной выборке Регион №2: 37.57514952112267 \n",
      "Средний предсказанный запас сырья в скважине: 92.92815460984569\n"
     ]
    }
   ],
   "source": [
    "model_1 = LinearRegression()\n",
    "model_1.fit(features_train_r1, target_train_r1)\n",
    "\n",
    "sample_features_valid_r1 = features_valid_r1.sample(n=500, replace=False, random_state=12345)\n",
    "sample_target_valid_r1 = target_valid_r1[sample_features_valid_r1.index]\n",
    "\n",
    "predictions_region_1 = model_1.predict(sample_features_valid_r1)\n",
    "\n",
    "\n",
    "result = (mean_squared_error(sample_target_valid_r1, predictions_region_1))**0.5 \n",
    "\n",
    "print('RMSE модели линейной регрессии на валидационной выборке Регион №2:', result, \n",
    "     '\\nСредний предсказанный запас сырья в скважине:', predictions_region_1.mean())"
   ]
  },
  {
   "cell_type": "markdown",
   "id": "bb5f75cb",
   "metadata": {},
   "source": [
    "Модель линейной регрессии на данных второго региона:"
   ]
  },
  {
   "cell_type": "code",
   "execution_count": 39,
   "id": "d161c30a",
   "metadata": {},
   "outputs": [
    {
     "name": "stdout",
     "output_type": "stream",
     "text": [
      "RMSE модели линейной регрессии на валидационной выборке Регион №2: 0.9018493264281595 \n",
      "Средний предсказанный запас сырья в скважине: 71.83821266831441\n"
     ]
    }
   ],
   "source": [
    "model_2 = LinearRegression()\n",
    "model_2.fit(features_train_r2, target_train_r2)\n",
    "\n",
    "sample_features_valid_r2 = features_valid_r2.sample(n=500, replace=False, random_state=12345)\n",
    "sample_target_valid_r2 = target_valid_r2[sample_features_valid_r2.index]\n",
    "\n",
    "predictions_region_2 = model_2.predict(sample_features_valid_r2)\n",
    "\n",
    "\n",
    "result = (mean_squared_error(sample_target_valid_r2, predictions_region_2))**0.5 \n",
    "\n",
    "print('RMSE модели линейной регрессии на валидационной выборке Регион №2:', result, \n",
    "     '\\nСредний предсказанный запас сырья в скважине:', predictions_region_2.mean())"
   ]
  },
  {
   "cell_type": "markdown",
   "id": "61d0aaab",
   "metadata": {},
   "source": [
    "И работа модели на данных по третьему региону: "
   ]
  },
  {
   "cell_type": "code",
   "execution_count": 40,
   "id": "74c4eaaf",
   "metadata": {},
   "outputs": [
    {
     "name": "stdout",
     "output_type": "stream",
     "text": [
      "RMSE модели линейной регрессии на валидационной выборке Регион №2: 40.608296869780055 \n",
      "Средний предсказанный запас сырья в скважине: 94.73109592789761\n"
     ]
    }
   ],
   "source": [
    "model_3 = LinearRegression()\n",
    "model_3.fit(features_train_r3, target_train_r3)\n",
    "\n",
    "sample_features_valid_r3 = features_valid_r3.sample(n=500, replace=False, random_state=12345)\n",
    "sample_target_valid_r3 = target_valid_r3[sample_features_valid_r3.index]\n",
    "\n",
    "predictions_region_3 = model_3.predict(sample_features_valid_r3)\n",
    "\n",
    "\n",
    "result = (mean_squared_error(sample_target_valid_r3, predictions_region_3))**0.5 \n",
    "\n",
    "print('RMSE модели линейной регрессии на валидационной выборке Регион №2:', result, \n",
    "     '\\nСредний предсказанный запас сырья в скважине:', predictions_region_3.mean())"
   ]
  },
  {
   "cell_type": "markdown",
   "id": "a8e3bb9e",
   "metadata": {},
   "source": [
    "Как мы видим из показателя метрики RMSE, модель на данных о первом и третьем региона показала очень похожий результат, и его сложно оценить как отличный. Довольно большая ошибка в предсказаниях.\n",
    "А вот для второго региона модель показала очень точную оценку, но для нас это не может быть сюрпризом, выраженность тенденций в данный прямо пропорционально влияет на точность прогноза модели. При этом стоит отметить самый низкий показатель средних запасов во втором регионе, это может оказаться ключевым фактором, даже при верном определении наиболее богатых сырьем скважин из случайной выборке в 500 наблюдений. Сохраним в переменных модели для каждого региона."
   ]
  },
  {
   "cell_type": "markdown",
   "id": "4e6003a5",
   "metadata": {},
   "source": [
    "## Ключевые параметры для расчета прибыли "
   ]
  },
  {
   "cell_type": "markdown",
   "id": "664fcc90",
   "metadata": {},
   "source": [
    "Определим ключевые параметры для расчета экономических показателей рентабельности, что будет определять конечный выбор выгоднейшего региона для промышленной добычи нефти."
   ]
  },
  {
   "cell_type": "code",
   "execution_count": 41,
   "id": "0c1a02f2",
   "metadata": {},
   "outputs": [
    {
     "name": "stdout",
     "output_type": "stream",
     "text": [
      "Себестоимость одной скважины: 111.11111111111111\n"
     ]
    }
   ],
   "source": [
    "# бюджет на разработку скважин в регионе составляет 10 млрд рублей\n",
    "DEVELOP_BUDGET = 10000000000\n",
    "\n",
    "# стоимость одной тысячи баррелей составляет 450 000 рублей (именно в тыс баррелей измеряется целевой признак)\n",
    "BARRELS_PRICE = 450000\n",
    "\n",
    "# 200 скважин в итоге будут разработы\n",
    "NUMDER_WELLS = 200\n",
    "\n",
    "print('Себестоимость одной скважины:', DEVELOP_BUDGET / BARRELS_PRICE / NUMDER_WELLS)"
   ]
  },
  {
   "cell_type": "markdown",
   "id": "d23bd578",
   "metadata": {},
   "source": [
    "Исходя из расчетов, месторождение с запасом сырья от 111.11 тыс. баррелей будет считаться доходным. \n",
    "\n",
    "Рассмотрим гипотетическую прибыль на действительной средней скважине из каждого региона и сравним с показателем себестоимости. "
   ]
  },
  {
   "cell_type": "code",
   "execution_count": 42,
   "id": "11f7f686",
   "metadata": {},
   "outputs": [
    {
     "name": "stdout",
     "output_type": "stream",
     "text": [
      "Средний показатель объема запасов на одной скважине Регион № 1: 92.50000000000001 \n",
      "Средний показатель объема запасов на одной скважине Регион № 2: 68.82500000000002 \n",
      "Средний показатель объема запасов на одной скважине Регион № 3: 95.00000000000004\n"
     ]
    }
   ],
   "source": [
    "print(\n",
    "    'Средний показатель объема запасов на одной скважине Регион № 1:', region_1['product'].mean(),\n",
    "    '\\nСредний показатель объема запасов на одной скважине Регион № 2:', region_2['product'].mean(),\n",
    "    '\\nСредний показатель объема запасов на одной скважине Регион № 3:', region_3['product'].mean()\n",
    "     )"
   ]
  },
  {
   "cell_type": "markdown",
   "id": "55c44e46",
   "metadata": {},
   "source": [
    "Любопытно, что ни один регион не обладаем средним запасом сырья на одно месторождение достаточным для выгодной разработки. Средняя скважина убыточна на каждом регионе, потому здесь не стоит полагаться на случай, свою ценность должно показать машинное обучение и предсказание ее алгоритмов. Очень интересно, смогут ли модели дать лучший результат и выделить 200 лучших из выборки в 500 скважин достаточных для фиксирования общей прибыли. Особенно интересен, сможет ли точнейшее предсказание модели линейной регрессии \"вытянуть\" второй регион, если не в лидеры, то хотя бы в зону рентабельности. Это узнаем из следующего этапа исследования."
   ]
  },
  {
   "cell_type": "markdown",
   "id": "a57bbd2a",
   "metadata": {},
   "source": [
    "<div class=\"alert alert-block alert-info\">\n",
    "\n",
    "<b>Совет: </b> В названиях константных переменных лучше использовать только БОЛЬШИЕ буквы. Это соглашение между программистами: https://pythonworld.ru/osnovy/pep-8-rukovodstvo-po-napisaniyu-koda-na-python.html#id29 .\n",
    "</div>\n",
    "\n",
    "<div class=\"alert alert-block alert-success\">\n",
    "<b>Успех:</b> Точка безубыточности найдена верно, сравнение проведено!\n",
    "</div>"
   ]
  },
  {
   "cell_type": "markdown",
   "id": "19962ec6",
   "metadata": {},
   "source": [
    "<div class=\"alert alert-block alert-warning\">\n",
    "<b>Изменения:</b> Были внесены следующие изменения: поправил регистр констант, спасибо, очень полезная ссылка!\n",
    "</div>"
   ]
  },
  {
   "cell_type": "markdown",
   "id": "973295bf",
   "metadata": {},
   "source": [
    "<div class=\"alert alert-block alert-success\">\n",
    "<b>Успех (ревью 2):</b> Спасибо!\n",
    "</div>"
   ]
  },
  {
   "cell_type": "markdown",
   "id": "6666294f",
   "metadata": {},
   "source": [
    "## Оценка действительной прибыли "
   ]
  },
  {
   "cell_type": "markdown",
   "id": "f46369f4",
   "metadata": {},
   "source": [
    "Создадим функцию, которая примет в себя целевые показатели реального запаса сырья и предсказания модели по ним. Создаст единый датафрейм, отсортирует по убыванию показателя предсказанной прибыли, и по двумстам лучшим скважинам предсказанным моделью посчитает уже действительную прибыль или, если говорить экономическими терминами, валовую прибыль.\n",
    "\n",
    "Далее в этой же ячейке посчитаем валовую прибыль для каждого региона по лучшим предсказаниям."
   ]
  },
  {
   "cell_type": "code",
   "execution_count": 43,
   "id": "728555de",
   "metadata": {},
   "outputs": [
    {
     "name": "stdout",
     "output_type": "stream",
     "text": [
      "Валовая прибыль по выбранным моделью скважинам Регион № 1: 679068857.8924236 \n",
      "Валовая прибыль по выбранным моделью скважинам Регион № 2: 779479884.1768398 \n",
      "Валовая прибыль по выбранным моделью скважинам Регион № 3: 439990143.0221844\n"
     ]
    }
   ],
   "source": [
    "def company_profit(target, predictions):\n",
    "    df = pd.DataFrame({'col1': target, 'col2': predictions})\n",
    "    df = df.sort_values(by=['col2'], ascending=False)[:200]\n",
    "    return sum(df['col1']) * BARRELS_PRICE - DEVELOP_BUDGET\n",
    "\n",
    "print(\n",
    "    'Валовая прибыль по выбранным моделью скважинам Регион № 1:', company_profit(sample_target_valid_r1, predictions_region_1),\n",
    "    '\\nВаловая прибыль по выбранным моделью скважинам Регион № 2:', company_profit(sample_target_valid_r2, predictions_region_2),\n",
    "    '\\nВаловая прибыль по выбранным моделью скважинам Регион № 3:', company_profit(sample_target_valid_r3, predictions_region_3)\n",
    "     )"
   ]
  },
  {
   "cell_type": "markdown",
   "id": "5aaa02a6",
   "metadata": {},
   "source": [
    "В результате второй регион благодаря работе модели и собственным признакам для нее удобным показал лучший результат по показателям прибыли. А вот самый богатый регион с точки зрения среднего запаса на одну скважину, регион № 3, показал самый скромный результат, исходя из распределения своих признаков, близкому к случайному. Первый регион, отнюдь не бедный, показал неплохой результат, но не лучший. Определяющим факторов в данном случае стала работа модели и ее любовь к разного рода закономерностям в данных."
   ]
  },
  {
   "cell_type": "markdown",
   "id": "1f00b8cc",
   "metadata": {},
   "source": [
    "## Оценка рисков и прибыли техникой Bootstrap"
   ]
  },
  {
   "cell_type": "markdown",
   "id": "41cd8644",
   "metadata": {},
   "source": [
    "Применим технику \"Bootstrap\" для отражения распределения прибыли по каждому региону. Найдет 95%-ный доверительный интервал, вычислим среднее значение прибыли, оценим риск убытков на выборках скважин для определения оптимального региона для разработки нефтяных месторождений. Создадим функцию для расчета прибыли для каждой выборке сформированной циклом \"Bootstrap\". На вход функция принимает собственно выборку и модель, в теле функции мы ссылаемся на функцию для расчета прибыли `company_profit`."
   ]
  },
  {
   "cell_type": "code",
   "execution_count": 44,
   "id": "273b7bb5",
   "metadata": {},
   "outputs": [],
   "source": [
    "def profit_function(sample, model):\n",
    "    target = sample['product']\n",
    "    features = sample.drop('product', axis=1)\n",
    "    predictions = model.predict(features)\n",
    "    return company_profit(target, predictions)\n",
    "    "
   ]
  },
  {
   "cell_type": "markdown",
   "id": "a680ec60",
   "metadata": {},
   "source": [
    "Используем технику на первом регионе."
   ]
  },
  {
   "cell_type": "code",
   "execution_count": 51,
   "id": "856a93ef",
   "metadata": {},
   "outputs": [
    {
     "name": "stdout",
     "output_type": "stream",
     "text": [
      "Средняя валовая прибыль по Региону №1: 334895699.16134804 \n",
      "95%-ый доверительный интервал средней прибыли имеет значения от: -163146990.84931007 и до: 829370063.034725 \n",
      "Вероятность убытков для Региона № 1 (%): 11.899999999999999\n"
     ]
    }
   ],
   "source": [
    "state = RandomState(12345) \n",
    "\n",
    "bootstrap_samples = 1000\n",
    "\n",
    "total_profit = []\n",
    "\n",
    "for i in range(bootstrap_samples):\n",
    "    sample = region_1.sample(n=500, replace=False, random_state=state)\n",
    "    total_profit.append(profit_function(sample, model_1))\n",
    "        \n",
    "total_profit = pd.Series(total_profit)\n",
    "\n",
    "print('Средняя валовая прибыль по Региону №1:', sum(total_profit) / len(total_profit),\n",
    "      '\\n95%-ый доверительный интервал средней прибыли имеет значения от:', \n",
    "      total_profit.quantile(0.025), 'и до:', total_profit.quantile(0.975),\n",
    "      '\\nВероятность убытков для Региона № 1 (%):', (total_profit < 0).mean() * 100\n",
    "     )"
   ]
  },
  {
   "cell_type": "markdown",
   "id": "568dbd60",
   "metadata": {},
   "source": [
    "<div class=\"alert alert-block alert-success\">\n",
    "<b>Успех:</b> Отлично, что для подсчета доверительного интервала использовался именно метод квантилей!\n",
    "</div>\n",
    "\n",
    "\n",
    "<div class=\"alert alert-block alert-info\">\n",
    "\n",
    "<b>Совет: </b> Риск можно было найти чуть проще: `(values < 0).mean()`, если объект типа pandas Series или numpy array.\n",
    "</div>"
   ]
  },
  {
   "cell_type": "markdown",
   "id": "3e05692b",
   "metadata": {},
   "source": [
    "<div class=\"alert alert-block alert-warning\">\n",
    "<b>Изменения:</b> Были внесены следующие изменения: поправил. Спасибо за совет! Элегантное решение. Очень ловко удалось оптимизировать код.\n",
    "</div>"
   ]
  },
  {
   "cell_type": "markdown",
   "id": "dbb26765",
   "metadata": {},
   "source": [
    "<div class=\"alert alert-block alert-success\">\n",
    "<b>Успех (ревью 2):</b> ОК.\n",
    "</div>"
   ]
  },
  {
   "cell_type": "markdown",
   "id": "7e78feee",
   "metadata": {},
   "source": [
    "Распределение выборок показала нам рискованный характер региона № 1. 95%-ный доверительный интервал уже затрагивает отрицательные значения прибыли, а более 10% выборок показали убыток. Перейдем ко второму региону."
   ]
  },
  {
   "cell_type": "code",
   "execution_count": 52,
   "id": "08f2d4f4",
   "metadata": {},
   "outputs": [
    {
     "name": "stdout",
     "output_type": "stream",
     "text": [
      "Средняя валовая прибыль по Региону №2: 455805014.43072444 \n",
      "95%-ый доверительный интервал средней прибыли имеет значения от: 62972016.20043713 и до: 856669877.1156306 \n",
      "Вероятность убытков для Региона № 2 (%): 1.0\n"
     ]
    }
   ],
   "source": [
    "bootstrap_samples = 1000\n",
    "\n",
    "total_profit = []\n",
    "\n",
    "count = 0\n",
    "\n",
    "for i in range(bootstrap_samples):\n",
    "    sample = region_2.sample(n=500, replace=False, random_state=state)\n",
    "    total_profit.append(profit_function(sample, model_2))\n",
    "\n",
    "        \n",
    "total_profit = pd.Series(total_profit)\n",
    "\n",
    "print('Средняя валовая прибыль по Региону №2:', sum(total_profit) / len(total_profit),\n",
    "      '\\n95%-ый доверительный интервал средней прибыли имеет значения от:', \n",
    "      total_profit.quantile(0.025), 'и до:', total_profit.quantile(0.975),\n",
    "      '\\nВероятность убытков для Региона № 2 (%):',(total_profit < 0).mean() * 100\n",
    "     )"
   ]
  },
  {
   "cell_type": "markdown",
   "id": "596209b2",
   "metadata": {},
   "source": [
    "Показатели второго региона заметно лучше, доверительный интервал отражает только положительные значениях прибыли. А вероятность убытков всего 1.6%. Проведем исследования и на третьем регионе."
   ]
  },
  {
   "cell_type": "code",
   "execution_count": 53,
   "id": "519373a5",
   "metadata": {},
   "outputs": [
    {
     "name": "stdout",
     "output_type": "stream",
     "text": [
      "Средняя валовая прибыль по Региону №3: 355639246.4442948 \n",
      "95%-ый доверительный интервал средней прибыли имеет значения от: -167110258.32265174 и до: 871803636.3655331 \n",
      "Вероятность убытков для Региона № 3 (%): 10.6\n"
     ]
    }
   ],
   "source": [
    "bootstrap_samples = 1000\n",
    "\n",
    "total_profit = []\n",
    "\n",
    "count = 0\n",
    "\n",
    "for i in range(bootstrap_samples):\n",
    "    sample = region_3.sample(n=500, replace=False, random_state=state)\n",
    "    total_profit.append(profit_function(sample, model_3))\n",
    "        \n",
    "\n",
    "total_profit = pd.Series(total_profit)\n",
    "\n",
    "print('Средняя валовая прибыль по Региону №3:', sum(total_profit) / len(total_profit),\n",
    "      '\\n95%-ый доверительный интервал средней прибыли имеет значения от:', \n",
    "      total_profit.quantile(0.025), 'и до:', total_profit.quantile(0.975),\n",
    "      '\\nВероятность убытков для Региона № 3 (%):', (total_profit < 0).mean() * 100\n",
    "     )"
   ]
  },
  {
   "cell_type": "markdown",
   "id": "a6deb6af",
   "metadata": {},
   "source": [
    "Третий регион оказался более привлекательным, чем первый, но до показателей второго ему далеко."
   ]
  },
  {
   "cell_type": "markdown",
   "id": "97fb76b5",
   "metadata": {},
   "source": [
    "<div class=\"alert alert-block alert-success\">\n",
    "<b>Успех:</b> Все статистики посчитаны корректно, молодец!\n",
    "</div>"
   ]
  },
  {
   "cell_type": "markdown",
   "id": "566c38b4",
   "metadata": {},
   "source": [
    "## Вывод"
   ]
  },
  {
   "cell_type": "markdown",
   "id": "1a193890",
   "metadata": {},
   "source": [
    "Исходя из проведенного исследования и показателях, которые нам продемонстрировала модель линейной регрессии, наиболее предпочтилельным регион для разработки стоит считать Регион № 2. \n",
    "\n",
    "Техника Bootstrap показала нам преимущества данного региона, самая высокая средняя прибыли на выборках, низкие риски убытков, положительные значения на всех протяженности 95% доверительного интервала.\n",
    "\n",
    "Исходя из общих предварительных расчетов, второй регион выглядел мало пригодным для разработки, но его признаки оказались удобными для алгоритма линейной регрессии, выборки скважин региона хорошо прогнозируемы, отсюда высокий результат в их сортировке и расчета запасов сырья в месторождении. \n",
    "\n",
    "Все это сделало выбор в пользу второго региона очевидным."
   ]
  },
  {
   "cell_type": "markdown",
   "id": "ed389133",
   "metadata": {},
   "source": [
    "<div class=\"alert alert-block alert-success\">\n",
    "<b>Успех:</b> Приятно видеть вывод в конце проекта!\n",
    "</div>"
   ]
  }
 ],
 "metadata": {
  "ExecuteTimeLog": [
   {
    "duration": 1444,
    "start_time": "2023-05-26T18:31:29.088Z"
   },
   {
    "duration": 1565,
    "start_time": "2023-05-26T18:31:30.534Z"
   },
   {
    "duration": 13,
    "start_time": "2023-05-26T18:31:32.100Z"
   },
   {
    "duration": 7,
    "start_time": "2023-05-26T18:31:32.115Z"
   },
   {
    "duration": 16,
    "start_time": "2023-05-26T18:31:32.124Z"
   },
   {
    "duration": 26,
    "start_time": "2023-05-26T18:31:32.141Z"
   },
   {
    "duration": 13,
    "start_time": "2023-05-26T18:31:32.168Z"
   },
   {
    "duration": 28,
    "start_time": "2023-05-26T18:31:32.182Z"
   },
   {
    "duration": 111,
    "start_time": "2023-05-26T18:31:32.212Z"
   },
   {
    "duration": 40,
    "start_time": "2023-05-26T18:31:32.325Z"
   },
   {
    "duration": 65,
    "start_time": "2023-05-26T18:31:32.367Z"
   },
   {
    "duration": 15,
    "start_time": "2023-05-26T18:31:32.434Z"
   },
   {
    "duration": 17,
    "start_time": "2023-05-26T18:31:32.452Z"
   },
   {
    "duration": 26,
    "start_time": "2023-05-26T18:31:32.473Z"
   },
   {
    "duration": 14,
    "start_time": "2023-05-26T18:31:32.507Z"
   },
   {
    "duration": 14,
    "start_time": "2023-05-26T18:31:32.522Z"
   },
   {
    "duration": 404,
    "start_time": "2023-05-26T18:31:32.538Z"
   },
   {
    "duration": 11,
    "start_time": "2023-05-26T18:31:32.944Z"
   },
   {
    "duration": 317,
    "start_time": "2023-05-26T18:31:32.956Z"
   },
   {
    "duration": 11,
    "start_time": "2023-05-26T18:31:33.274Z"
   },
   {
    "duration": 397,
    "start_time": "2023-05-26T18:31:33.286Z"
   },
   {
    "duration": 11,
    "start_time": "2023-05-26T18:31:33.684Z"
   },
   {
    "duration": 336,
    "start_time": "2023-05-26T18:31:33.706Z"
   },
   {
    "duration": 13,
    "start_time": "2023-05-26T18:31:34.044Z"
   },
   {
    "duration": 330,
    "start_time": "2023-05-26T18:31:34.060Z"
   },
   {
    "duration": 24,
    "start_time": "2023-05-26T18:31:34.392Z"
   },
   {
    "duration": 332,
    "start_time": "2023-05-26T18:31:34.419Z"
   },
   {
    "duration": 10,
    "start_time": "2023-05-26T18:31:34.752Z"
   },
   {
    "duration": 342,
    "start_time": "2023-05-26T18:31:34.764Z"
   },
   {
    "duration": 11,
    "start_time": "2023-05-26T18:31:35.108Z"
   },
   {
    "duration": 339,
    "start_time": "2023-05-26T18:31:35.120Z"
   },
   {
    "duration": 11,
    "start_time": "2023-05-26T18:31:35.461Z"
   },
   {
    "duration": 402,
    "start_time": "2023-05-26T18:31:35.474Z"
   },
   {
    "duration": 19,
    "start_time": "2023-05-26T18:31:35.878Z"
   },
   {
    "duration": 14,
    "start_time": "2023-05-26T18:31:35.905Z"
   },
   {
    "duration": 21,
    "start_time": "2023-05-26T18:31:35.920Z"
   },
   {
    "duration": 33,
    "start_time": "2023-05-26T18:31:35.942Z"
   },
   {
    "duration": 15,
    "start_time": "2023-05-26T18:31:35.977Z"
   },
   {
    "duration": 25,
    "start_time": "2023-05-26T18:31:35.994Z"
   },
   {
    "duration": 17,
    "start_time": "2023-05-26T18:31:36.021Z"
   },
   {
    "duration": 3,
    "start_time": "2023-05-26T18:31:36.041Z"
   },
   {
    "duration": 23,
    "start_time": "2023-05-26T18:31:36.046Z"
   },
   {
    "duration": 20,
    "start_time": "2023-05-26T18:31:36.071Z"
   },
   {
    "duration": 10,
    "start_time": "2023-05-26T18:31:36.092Z"
   },
   {
    "duration": 97,
    "start_time": "2023-05-26T18:31:36.103Z"
   },
   {
    "duration": 0,
    "start_time": "2023-05-26T18:31:36.202Z"
   },
   {
    "duration": 0,
    "start_time": "2023-05-26T18:31:36.205Z"
   },
   {
    "duration": 3,
    "start_time": "2023-05-26T18:37:41.095Z"
   },
   {
    "duration": 3778,
    "start_time": "2023-05-26T18:37:47.689Z"
   },
   {
    "duration": 3956,
    "start_time": "2023-05-26T18:37:59.834Z"
   },
   {
    "duration": 3882,
    "start_time": "2023-05-26T18:38:14.296Z"
   },
   {
    "duration": 3882,
    "start_time": "2023-05-26T18:39:39.291Z"
   },
   {
    "duration": 3809,
    "start_time": "2023-05-26T18:40:09.622Z"
   },
   {
    "duration": 3648,
    "start_time": "2023-05-26T18:41:06.740Z"
   },
   {
    "duration": 3643,
    "start_time": "2023-05-26T18:41:53.116Z"
   },
   {
    "duration": 93,
    "start_time": "2023-05-26T19:03:32.694Z"
   },
   {
    "duration": 68,
    "start_time": "2023-05-26T19:06:28.920Z"
   }
  ],
  "kernelspec": {
   "display_name": "Python 3 (ipykernel)",
   "language": "python",
   "name": "python3"
  },
  "language_info": {
   "codemirror_mode": {
    "name": "ipython",
    "version": 3
   },
   "file_extension": ".py",
   "mimetype": "text/x-python",
   "name": "python",
   "nbconvert_exporter": "python",
   "pygments_lexer": "ipython3",
   "version": "3.9.5"
  },
  "toc": {
   "base_numbering": 1,
   "nav_menu": {},
   "number_sections": true,
   "sideBar": true,
   "skip_h1_title": true,
   "title_cell": "Table of Contents",
   "title_sidebar": "Contents",
   "toc_cell": false,
   "toc_position": {
    "height": "calc(100% - 180px)",
    "left": "10px",
    "top": "150px",
    "width": "303.542px"
   },
   "toc_section_display": true,
   "toc_window_display": false
  }
 },
 "nbformat": 4,
 "nbformat_minor": 5
}
